{
 "cells": [
  {
   "cell_type": "code",
   "execution_count": null,
   "id": "9098245f",
   "metadata": {},
   "outputs": [],
   "source": [
    "import numpy as np\n",
    "import os\n",
    "import cv2\n",
    "import scipy.io\n",
    "from scipy.spatial import KDTree\n",
    "from scipy.ndimage import gaussian_filter\n",
    "\n",
    "def generate_density_map(image_shape, points, k=11, beta=0.15):\n",
    "\n",
    "    H, W = image_shape\n",
    "    density_map = np.zeros((H, W), dtype=np.float32)\n",
    "    \n",
    "\n",
    "    tree = KDTree(points)\n",
    "\n",
    "    for i, point in enumerate(points):\n",
    "        distances, locations = tree.query(point, k=k+1)\n",
    "        avg_dist = np.mean(distances[1:]) \n",
    "\n",
    "        sigma = beta * avg_dist\n",
    "\n",
    "        x, y = int(point[0]), int(point[1])\n",
    "\n",
    "        size = int(6 * sigma)\n",
    "        if size % 2 == 0:\n",
    "            size += 1\n",
    "        gaussian_map = np.zeros((size, size), dtype=np.float32)\n",
    "        center = size // 2\n",
    "        gaussian_map[center, center] = 1\n",
    "\n",
    "        gaussian_map = gaussian_filter(gaussian_map, sigma, mode='constant')\n",
    "\n",
    "        x1 = max(0, x - center)\n",
    "        y1 = max(0, y - center)\n",
    "        x2 = min(W, x + center + 1)\n",
    "        y2 = min(H, y + center + 1)\n",
    "\n",
    "        gx1 = center - (x - x1)\n",
    "        gy1 = center - (y - y1)\n",
    "        gx2 = gx1 + (x2 - x1)\n",
    "        gy2 = gy1 + (y2 - y1)\n",
    "\n",
    "        g_patch = gaussian_map[gy1:gy2, gx1:gx2]\n",
    "        d_patch = density_map[y1:y2, x1:x2]\n",
    "\n",
    "        h = min(g_patch.shape[0], d_patch.shape[0])\n",
    "        w = min(g_patch.shape[1], d_patch.shape[1])\n",
    "\n",
    "        if h > 0 and w > 0:   \n",
    "            density_map[y1:y1+h, x1:x1+w] += gaussian_map[gy1:gy1+h, gx1:gx1+w]\n",
    "\n",
    "    return density_map\n"
   ]
  },
  {
   "cell_type": "code",
   "execution_count": 6,
   "id": "3ad6d633",
   "metadata": {},
   "outputs": [],
   "source": [
    "# Combined function to process data\n",
    "def process_dataset(image_dir, gt_dir, npy_output_dir, img_output_dir):\n",
    "    os.makedirs(npy_output_dir, exist_ok=True)\n",
    "    os.makedirs(img_output_dir, exist_ok=True)\n",
    "    image_files = os.listdir(image_dir)\n",
    "\n",
    "    for image_file in image_files:\n",
    "        image_path = os.path.join(image_dir, image_file)\n",
    "        mat_path = os.path.join(gt_dir, \"GT_\" + image_file.replace(\".jpg\", \".mat\"))\n",
    "\n",
    "        image = cv2.imread(image_path)\n",
    "        image_rgb = cv2.cvtColor(image, cv2.COLOR_BGR2RGB)\n",
    "        H, W, _ = image.shape\n",
    "\n",
    "        mat = scipy.io.loadmat(mat_path)\n",
    "        points = mat[\"image_info\"][0, 0][0, 0][0]\n",
    "        density_map = generate_density_map((H, W), points)\n",
    "\n",
    "        npy_path = os.path.join(npy_output_dir, image_file.replace(\".jpg\", \".npy\"))\n",
    "        np.save(npy_path, density_map)\n",
    "\n",
    "        normed_map = (density_map / np.max(density_map) * 255).astype(np.uint8)\n",
    "        colored_map = cv2.applyColorMap(normed_map, cv2.COLORMAP_JET)\n",
    "        img_path = os.path.join(img_output_dir, image_file.replace('.jpg', '.png'))\n",
    "        cv2.imwrite(img_path, colored_map)"
   ]
  },
  {
   "cell_type": "code",
   "execution_count": null,
   "id": "08841769",
   "metadata": {},
   "outputs": [
    {
     "name": "stdout",
     "output_type": "stream",
     "text": [
      "processed sigma = 9\n"
     ]
    }
   ],
   "source": [
    "#sigmas = [6,7,8,9,10,11,12,13,14,15]\n",
    "image_dir='crowd_wala_dataset/train_data/images/'\n",
    "gt_dir='crowd_wala_dataset/train_data/ground_truth/'\n",
    "\n",
    "#for sigma in sigmas:\n",
    "#npy_output_dir=f'density_maps/train_data_sigma_{sigma}_new2/'\n",
    "#img_output_dir=f'density_maps_images/train_data_sigma_{sigma}_new2/'\n",
    "process_dataset(image_dir, gt_dir, npy_output_dir, img_output_dir)\n",
    "#print(f\"processed sigma = {sigma}\")\n",
    "\n",
    "# k=9, beta=0.15 => mse: 4.159608840942383, mse: 22.065937042236328, Variance: 4.763588905334473"
   ]
  }
 ],
 "metadata": {
  "kernelspec": {
   "display_name": "venv",
   "language": "python",
   "name": "python3"
  },
  "language_info": {
   "codemirror_mode": {
    "name": "ipython",
    "version": 3
   },
   "file_extension": ".py",
   "mimetype": "text/x-python",
   "name": "python",
   "nbconvert_exporter": "python",
   "pygments_lexer": "ipython3",
   "version": "3.10.0"
  }
 },
 "nbformat": 4,
 "nbformat_minor": 5
}
